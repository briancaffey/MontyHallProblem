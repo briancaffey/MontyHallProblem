{
 "cells": [
  {
   "cell_type": "code",
   "execution_count": 61,
   "metadata": {
    "collapsed": true
   },
   "outputs": [],
   "source": [
    "from random import choice\n",
    "\n",
    "stats = {\"wins\":0,\"percent_wins\":0,\"losses\":0, \"percent_losses\":0}\n",
    "\n",
    "\n",
    "def play_game():\n",
    "    doors = [1,2,3]\n",
    "    car = choice(doors)\n",
    "    #user = int(raw_input(\"Choose a door: \"))\n",
    "    user = choice(doors)\n",
    "    if user == car:\n",
    "        monty_options = [i for i in doors if i != car]\n",
    "        monty = choice(monty_options)\n",
    "    else: \n",
    "        monty_options = [i for i in doors if i != car and i != user]\n",
    "        monty = monty_options[0]\n",
    "    #print \"Car is behind door %d\" % (car)\n",
    "    #print \"User picks door %s\" % (user)\n",
    "    #print \"Monty Reveals door %d\" % (monty)\n",
    "    \n",
    "    #decision = raw_input(\"Would you like to change doors? y/n: \")\n",
    "    decision = \"y\"\n",
    "    \n",
    "    if decision == \"y\" or \"Y\":\n",
    "        choice_options = [i for i in doors if i != monty and i != user]\n",
    "        new = choice_options[0]\n",
    "        #print \"You have changed your choice from door %s to door %s\" % (user, new)\n",
    "        user = new\n",
    "    else:\n",
    "        user = user\n",
    "    \n",
    "    if user == car:\n",
    "        #print \"You are a winner!\"\n",
    "        stats[\"wins\"] = stats[\"wins\"]+1\n",
    "        #print stats.items()\n",
    "        \n",
    "    else: \n",
    "        #print \"You got a goat.\"\n",
    "        stats[\"losses\"] = stats[\"losses\"]+1\n",
    "        #print stats.items()\n",
    "           \n",
    "\n",
    "def reset_stats():\n",
    "    stats[\"wins\"] = 0\n",
    "    stats[\"losses\"] = 0"
   ]
  },
  {
   "cell_type": "code",
   "execution_count": 62,
   "metadata": {
    "collapsed": false
   },
   "outputs": [],
   "source": [
    "def play_game_n_times(n):\n",
    "    for i in range(1,n+1):\n",
    "        play_game()\n",
    "    stats[\"percent_wins\"] = float(stats[\"wins\"])/float(n)\n",
    "    stats[\"percent_losses\"] = float(stats[\"losses\"])/float(n)\n",
    "    print stats.items()\n",
    "    reset_stats()\n",
    "\n",
    "    "
   ]
  },
  {
   "cell_type": "code",
   "execution_count": 68,
   "metadata": {
    "collapsed": false
   },
   "outputs": [
    {
     "name": "stdout",
     "output_type": "stream",
     "text": [
      "[('wins', 19), ('percent_wins', 0.6333333333333333), ('percent_losses', 0.36666666666666664), ('losses', 11)]\n"
     ]
    }
   ],
   "source": [
    "play_game_n_times(30)"
   ]
  }
 ],
 "metadata": {
  "kernelspec": {
   "display_name": "Python 2",
   "language": "python",
   "name": "python2"
  },
  "language_info": {
   "codemirror_mode": {
    "name": "ipython",
    "version": 2
   },
   "file_extension": ".py",
   "mimetype": "text/x-python",
   "name": "python",
   "nbconvert_exporter": "python",
   "pygments_lexer": "ipython2",
   "version": "2.7.13"
  }
 },
 "nbformat": 4,
 "nbformat_minor": 0
}
